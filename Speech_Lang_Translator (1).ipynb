{
 "cells": [
  {
   "cell_type": "code",
   "execution_count": 1,
   "id": "12b81d77-98fc-49d6-877b-2d17c446873c",
   "metadata": {},
   "outputs": [],
   "source": [
    "from tkinter import *\n",
    "from tkinter import ttk"
   ]
  },
  {
   "cell_type": "code",
   "execution_count": 2,
   "id": "561505ed-7b06-4ca2-9032-181fe80b7458",
   "metadata": {},
   "outputs": [],
   "source": [
    "import speech_recognition as sr\n",
    "from googletrans import Translator, LANGUAGES\n",
    "import pyperclip"
   ]
  },
  {
   "cell_type": "code",
   "execution_count": 3,
   "id": "a165e50e-157c-4641-be54-4fdc5a81307f",
   "metadata": {},
   "outputs": [],
   "source": [
    "from gtts import gTTS\n",
    "import os"
   ]
  },
  {
   "cell_type": "code",
   "execution_count": 4,
   "id": "0540a542-f4e3-467e-83b4-bb728e4ad7c7",
   "metadata": {},
   "outputs": [],
   "source": [
    "def change(text='type',src='english',dest='Hindi'):\n",
    "    text1=text\n",
    "    src1=src    \n",
    "    dest1=dest\n",
    "    trans= Translator()\n",
    "    trans1=trans.translate(text,src=src1,dest=dest1)\n",
    "    return trans1.text"
   ]
  },
  {
   "cell_type": "code",
   "execution_count": 5,
   "id": "0417fd99-29b4-4e66-a341-35e80aed8191",
   "metadata": {},
   "outputs": [],
   "source": [
    "def data():\n",
    "    s=comb_sor.get()\n",
    "    d=comb_dest.get()\n",
    "    masg=Sor_txt.get(1.0,END)\n",
    "    textget=change(text=masg,src=s,dest=d)\n",
    "    dest_txt.delete(1.0,END)\n",
    "    dest_txt.insert(END,textget)"
   ]
  },
  {
   "cell_type": "code",
   "execution_count": 6,
   "id": "794fbc3b-21ab-4151-b474-485d14de6286",
   "metadata": {},
   "outputs": [],
   "source": [
    "def speech_to_text():\n",
    "    recognizer = sr.Recognizer()\n",
    "    with sr.Microphone() as source:\n",
    "        print(\"Say something...\")\n",
    "        audio = recognizer.listen(source)\n",
    "\n",
    "    try:\n",
    "        text = recognizer.recognize_google(audio)\n",
    "        Sor_txt.delete(1.0, END)\n",
    "        Sor_txt.insert(END, text)\n",
    "    except sr.UnknownValueError:\n",
    "        print(\"Sorry, could not understand audio.\")\n",
    "    except sr.RequestError as e:\n",
    "        print(\"Could not request results from Google Speech Recognition service; {0}\".format(e))"
   ]
  },
  {
   "cell_type": "code",
   "execution_count": 7,
   "id": "e47cf949-db55-46dd-ae60-5d206784ee7a",
   "metadata": {},
   "outputs": [],
   "source": [
    "def copy_source_text():\n",
    "    src_text = Sor_txt.get(1.0, END)\n",
    "    pyperclip.copy(src_text)\n",
    "\n",
    "def copy_dest_text():\n",
    "    dest_text = dest_txt.get(1.0, END)\n",
    "    pyperclip.copy(dest_text)"
   ]
  },
  {
   "cell_type": "code",
   "execution_count": 8,
   "id": "ad523fd9-c2db-4df4-91d7-1ad4c6ca89a8",
   "metadata": {},
   "outputs": [],
   "source": [
    "def text_to_speech():\n",
    "    text = dest_txt.get(1.0, END)\n",
    "    tts = gTTS(text=text, lang=comb_dest.get())\n",
    "    tts.save(\"converted_audio.mp3\")\n",
    "    os.system(\"start converted_audio.mp3\")"
   ]
  },
  {
   "cell_type": "code",
   "execution_count": 9,
   "id": "68b50e01-bf2c-4b85-8161-436fc9ecd46a",
   "metadata": {},
   "outputs": [
    {
     "data": {
      "text/plain": [
       "''"
      ]
     },
     "execution_count": 9,
     "metadata": {},
     "output_type": "execute_result"
    }
   ],
   "source": [
    "root=Tk()\n",
    "root.geometry('1100x320')\n",
    "root.resizable(0,0)\n",
    "root['bg']='Magenta'\n",
    "root.title('Language Translator')"
   ]
  },
  {
   "cell_type": "code",
   "execution_count": 10,
   "id": "6e457ab9-3e60-45e5-9196-332cd1a60059",
   "metadata": {},
   "outputs": [],
   "source": [
    "lab_txt=Label(root,text=\"Language Translator\",font=(\"Time New Roman\",20,\"bold\"),bg='Magenta')\n",
    "lab_txt.place (x=395,y=0,height=50,width=300)\n",
    "\n",
    "frame=Frame(root).pack(side=BOTTOM)\n",
    "list_text=list(LANGUAGES.values())"
   ]
  },
  {
   "cell_type": "code",
   "execution_count": 11,
   "id": "0627273b-4799-4a2c-a743-f1db89ec012a",
   "metadata": {},
   "outputs": [],
   "source": [
    "lab_txt=Label(root,text=\"Source Text\",font=(\"Time New Roman\",15,\"bold\"),bg='Magenta')\n",
    "lab_txt.place(x=80,y=60,height=30,width=250)\n",
    "\n",
    "Sor_txt = Text(frame,font=(\"Time New Roman\",15,\"bold\" ),wrap=WORD)\n",
    "Sor_txt.place(x=10,y=90,height=120,width=400)\n",
    "\n",
    "comb_sor=ttk.Combobox(frame,value=list_text)\n",
    "comb_sor.place(x=470,y=100,height=20,width=150)\n",
    "comb_sor.set(\"english\")"
   ]
  },
  {
   "cell_type": "code",
   "execution_count": 12,
   "id": "e4dcd3ef-ba8d-4253-9946-49b26059b23b",
   "metadata": {},
   "outputs": [],
   "source": [
    "button_change=Button(frame,text=\"Translate\",font='arial 13 bold',relief=RAISED,command=data)\n",
    "button_change.place(x=470,y=130, height=40, width=150)"
   ]
  },
  {
   "cell_type": "code",
   "execution_count": 13,
   "id": "b6964f5a-b933-4788-bfed-21173c5bd546",
   "metadata": {},
   "outputs": [],
   "source": [
    "lab_txt=Label(root,text=\"Converted Text\",font=(\"Time New Roman\",15,\"bold\"),bg='Magenta')\n",
    "lab_txt.place(x=750,y=60,height=30,width=250)\n",
    "\n",
    "dest_txt=Text(frame,font=(\"Time New Roman\",15,\"bold\" ),wrap=WORD)\n",
    "dest_txt.place(x=680,y=90,height=120,width=400)\n",
    "\n",
    "comb_dest=ttk.Combobox(frame,value=list_text)\n",
    "comb_dest.place(x=470,y=180,height=20,width=150)\n",
    "comb_dest.set(\"english\")"
   ]
  },
  {
   "cell_type": "code",
   "execution_count": 14,
   "id": "95ad7fa8-c314-45f2-9e86-059d2a7dd0d2",
   "metadata": {},
   "outputs": [],
   "source": [
    "speech_to_text_button = Button(frame, text=\"Speech to Text\", font='arial 13 bold', relief=RAISED, command=speech_to_text)\n",
    "speech_to_text_button.place(x=140, y=225, height=30, width=150)"
   ]
  },
  {
   "cell_type": "code",
   "execution_count": 15,
   "id": "aa0d7a98-60ae-47a0-9263-78bd2252090d",
   "metadata": {},
   "outputs": [],
   "source": [
    "copy_source_button = Button(frame, text=\"Copy Source Text\", font='arial 13 bold', relief=RAISED, command=copy_source_text)\n",
    "copy_source_button.place(x=140, y=265, height=30, width=150)\n",
    "\n",
    "copy_dest_button = Button(frame, text=\"Copy Converted Text\", font='arial 10 bold', relief=RAISED, command=copy_dest_text)\n",
    "copy_dest_button.place(x=800, y=225, height=30, width=150)"
   ]
  },
  {
   "cell_type": "code",
   "execution_count": 16,
   "id": "7dfa1e76-2017-46d6-8a27-82d4b28c4142",
   "metadata": {},
   "outputs": [],
   "source": [
    "text_to_speech_button = Button(frame, text=\"Text to Speech\", font='arial 13 bold', relief=RAISED, command=text_to_speech)\n",
    "text_to_speech_button.place(x=800, y=265, height=30, width=150)"
   ]
  },
  {
   "cell_type": "code",
   "execution_count": 17,
   "id": "934a9705-d5a6-4257-b924-40a09e479423",
   "metadata": {},
   "outputs": [
    {
     "name": "stdout",
     "output_type": "stream",
     "text": [
      "Say something...\n"
     ]
    },
    {
     "name": "stderr",
     "output_type": "stream",
     "text": [
      "Exception in Tkinter callback\n",
      "Traceback (most recent call last):\n",
      "  File \"C:\\Users\\hp\\AppData\\Local\\Programs\\Python\\Python312\\Lib\\tkinter\\__init__.py\", line 1967, in __call__\n",
      "    return self.func(*args)\n",
      "           ^^^^^^^^^^^^^^^^\n",
      "  File \"C:\\Users\\hp\\AppData\\Local\\Temp\\ipykernel_8688\\3013749440.py\", line 3, in text_to_speech\n",
      "    tts = gTTS(text=text, lang=comb_dest.get())\n",
      "          ^^^^^^^^^^^^^^^^^^^^^^^^^^^^^^^^^^^^^\n",
      "  File \"C:\\Users\\hp\\AppData\\Local\\Programs\\Python\\Python312\\Lib\\site-packages\\gtts\\tts.py\", line 150, in __init__\n",
      "    raise ValueError(\"Language not supported: %s\" % lang)\n",
      "ValueError: Language not supported: french\n",
      "Exception in Tkinter callback\n",
      "Traceback (most recent call last):\n",
      "  File \"C:\\Users\\hp\\AppData\\Local\\Programs\\Python\\Python312\\Lib\\tkinter\\__init__.py\", line 1967, in __call__\n",
      "    return self.func(*args)\n",
      "           ^^^^^^^^^^^^^^^^\n",
      "  File \"C:\\Users\\hp\\AppData\\Local\\Temp\\ipykernel_8688\\3013749440.py\", line 3, in text_to_speech\n",
      "    tts = gTTS(text=text, lang=comb_dest.get())\n",
      "          ^^^^^^^^^^^^^^^^^^^^^^^^^^^^^^^^^^^^^\n",
      "  File \"C:\\Users\\hp\\AppData\\Local\\Programs\\Python\\Python312\\Lib\\site-packages\\gtts\\tts.py\", line 150, in __init__\n",
      "    raise ValueError(\"Language not supported: %s\" % lang)\n",
      "ValueError: Language not supported: french\n"
     ]
    }
   ],
   "source": [
    "root.mainloop()"
   ]
  }
 ],
 "metadata": {
  "kernelspec": {
   "display_name": "Python 3 (ipykernel)",
   "language": "python",
   "name": "python3"
  },
  "language_info": {
   "codemirror_mode": {
    "name": "ipython",
    "version": 3
   },
   "file_extension": ".py",
   "mimetype": "text/x-python",
   "name": "python",
   "nbconvert_exporter": "python",
   "pygments_lexer": "ipython3",
   "version": "3.12.3"
  }
 },
 "nbformat": 4,
 "nbformat_minor": 5
}
